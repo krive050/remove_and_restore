{
 "cells": [
  {
   "cell_type": "code",
   "execution_count": 29,
   "id": "0d5c9a6b",
   "metadata": {},
   "outputs": [],
   "source": [
    "# Let's load on dependencies for this notebook\n",
    "import argparse\n",
    "import isce\n",
    "import isceobj\n",
    "import os\n",
    "from osgeo import gdal\n",
    "from osgeo import gdal_array\n",
    "import numpy as np\n",
    "import xml.etree.ElementTree as ET\n"
   ]
  },
  {
   "cell_type": "code",
   "execution_count": 30,
   "id": "4c8a3474",
   "metadata": {},
   "outputs": [],
   "source": [
    "###Folowing files need to be the same size as your output grid.\n",
    "latfile  = '/scratch/alor_2015_dsc_III/geometry/lat.rdr.full.vrt'\n",
    "lonfile  = '/scratch/alor_2015_dsc_III/geometry/lon.rdr.full.vrt'"
   ]
  },
  {
   "cell_type": "code",
   "execution_count": 31,
   "id": "4ee08ec9",
   "metadata": {},
   "outputs": [],
   "source": [
    "###Files to resample from geo coords\n",
    "#infile       = 'geo.int'\n",
    "infile       = '/scratch/alor_2015_dsc_III/interferogram/filt_topophase.flat'\n",
    "resampMethod = 'near'\n",
    "outfile      = 'ungeo.int'"
   ]
  },
  {
   "cell_type": "code",
   "execution_count": 32,
   "id": "9435752d",
   "metadata": {},
   "outputs": [],
   "source": [
    "def writeVRT(infile, latFile, lonFile):\n",
    "#This function is modified from isce2gis.py\n",
    "            tree = ET.parse(infile + '.vrt')\n",
    "            root = tree.getroot()\n",
    "\n",
    "            meta = ET.SubElement(root, 'metadata')\n",
    "            meta.attrib['domain'] = \"GEOLOCATION\"\n",
    "            meta.tail = '\\n'\n",
    "            meta.text = '\\n    '\n",
    "\n",
    "\n",
    "            rdict = { 'Y_DATASET' : latFile,\n",
    "                      'X_DATASET' : lonFile,\n",
    "                      'X_BAND' : \"1\",\n",
    "                      'Y_BAND' : \"1\",\n",
    "                      'PIXEL_OFFSET': \"0\",\n",
    "                      'LINE_OFFSET' : \"0\",\n",
    "                      'LINE_STEP' : \"1\",\n",
    "                      'PIXEL_STEP' : \"1\" }\n",
    "\n",
    "            for key, val in rdict.items():\n",
    "                data = ET.SubElement(meta, 'mdi')\n",
    "                data.text = val\n",
    "                data.attrib['key'] = key\n",
    "                data.tail = '\\n    '\n",
    "\n",
    "            data.tail = '\\n'\n",
    "            tree.write(infile + '.vrt')"
   ]
  },
  {
   "cell_type": "code",
   "execution_count": 33,
   "id": "79a87c9a",
   "metadata": {},
   "outputs": [
    {
     "name": "stderr",
     "output_type": "stream",
     "text": [
      "ERROR 1: Image file is too small\n"
     ]
    },
    {
     "ename": "AttributeError",
     "evalue": "'NoneType' object has no attribute 'RasterXSize'",
     "output_type": "error",
     "traceback": [
      "\u001b[0;31m---------------------------------------------------------------------------\u001b[0m",
      "\u001b[0;31mAttributeError\u001b[0m                            Traceback (most recent call last)",
      "Input \u001b[0;32mIn [33]\u001b[0m, in \u001b[0;36m<cell line: 3>\u001b[0;34m()\u001b[0m\n\u001b[1;32m      1\u001b[0m \u001b[38;5;66;03m##get number of rows and columns in radar coords file (lat)\u001b[39;00m\n\u001b[1;32m      2\u001b[0m raster \u001b[38;5;241m=\u001b[39m gdal\u001b[38;5;241m.\u001b[39mOpen(latfile)\n\u001b[0;32m----> 3\u001b[0m radarnx\u001b[38;5;241m=\u001b[39m\u001b[43mraster\u001b[49m\u001b[38;5;241;43m.\u001b[39;49m\u001b[43mRasterXSize\u001b[49m\n\u001b[1;32m      4\u001b[0m radarny\u001b[38;5;241m=\u001b[39mraster\u001b[38;5;241m.\u001b[39mRasterYSize\n\u001b[1;32m      5\u001b[0m cols,rows\u001b[38;5;241m=\u001b[39mnp\u001b[38;5;241m.\u001b[39mmeshgrid(np\u001b[38;5;241m.\u001b[39marange(\u001b[38;5;241m1\u001b[39m,radarnx\u001b[38;5;241m+\u001b[39m\u001b[38;5;241m1\u001b[39m),np\u001b[38;5;241m.\u001b[39marange(radarny,\u001b[38;5;241m0\u001b[39m,\u001b[38;5;241m-\u001b[39m\u001b[38;5;241m1\u001b[39m))\n",
      "\u001b[0;31mAttributeError\u001b[0m: 'NoneType' object has no attribute 'RasterXSize'"
     ]
    }
   ],
   "source": [
    "##get number of rows and columns in radar coords file (lat)\n",
    "raster = gdal.Open(latfile)\n",
    "radarnx=raster.RasterXSize\n",
    "radarny=raster.RasterYSize\n",
    "cols,rows=np.meshgrid(np.arange(1,radarnx+1),np.arange(radarny,0,-1))\n",
    "\n",
    "#make new files of columns and rows, in radar coordinates\n",
    "colfile = 'cols.r4'\n",
    "rowfile = 'rows.r4'\n",
    "gcolfile = 'geo_cols.r4'\n",
    "growfile = 'geo_rows.r4'\n",
    "driver=gdal.GetDriverByName('ISCE')\n",
    "colds = driver.Create(colfile,radarnx,radarny,1,gdal.GDT_Float32)\n",
    "colds.GetRasterBand(1).WriteArray(cols)\n",
    "colds=None\n",
    "\n",
    "colds = driver.Create(rowfile,radarnx,radarny,1,gdal.GDT_Float32)\n",
    "colds.GetRasterBand(1).WriteArray(rows)\n",
    "colds=None\n",
    "\n",
    "cmd = 'fixImageXml.py -i '+colfile+' -f'\n",
    "os.system(cmd)\n",
    "cmd = 'fixImageXml.py -i '+rowfile+' -f'\n",
    "os.system(cmd)\n",
    "writeVRT(colfile, latfile, lonfile)\n",
    "writeVRT(rowfile, latfile, lonfile)"
   ]
  },
  {
   "cell_type": "code",
   "execution_count": 7,
   "id": "16deda82",
   "metadata": {},
   "outputs": [],
   "source": [
    "##get number of rows and columns + min/max range of input file\n",
    "raster = gdal.Open(infile)\n",
    "geonx=raster.RasterXSize\n",
    "geony=raster.RasterYSize\n",
    "\n",
    "minLon = raster.GetGeoTransform()[0]\n",
    "deltaLon = raster.GetGeoTransform()[1]\n",
    "maxLat = raster.GetGeoTransform()[3]\n",
    "deltaLat = raster.GetGeoTransform()[5]\n",
    "minLat = maxLat + geony*deltaLat\n",
    "maxLon = minLon + geonx*deltaLon\n",
    "WSEN = str(minLon)+' '+str(minLat)+' '+str(maxLon)+' '+str(maxLat)\n"
   ]
  },
  {
   "cell_type": "code",
   "execution_count": 8,
   "id": "b0f9fadd",
   "metadata": {},
   "outputs": [
    {
     "name": "stdout",
     "output_type": "stream",
     "text": [
      "gdalwarp -of ISCE -geoloc  -te 124.48944444444444 -8.749166666666666 125.26 -7.998055555555555 -tr 0.0002777777777777778 -0.0002777777777777778 -srcnodata 0 -dstnodata 0  -wt float32 -r bilinear rows.r4.vrt geo_rows.r4\n",
      "gdalwarp -of ISCE -geoloc  -te 124.48944444444444 -8.749166666666666 125.26 -7.998055555555555 -tr 0.0002777777777777778 -0.0002777777777777778 -srcnodata 0 -dstnodata 0  -wt float32 -r bilinear cols.r4.vrt geo_cols.r4\n"
     ]
    },
    {
     "name": "stderr",
     "output_type": "stream",
     "text": [
      "ERROR 1: Output dataset geo_rows.r4 exists,\n",
      "but some command line options were provided indicating a new dataset\n",
      "should be created.  Please delete existing dataset and run again.\n",
      "\n",
      "ERROR 1: Output dataset geo_cols.r4 exists,\n",
      "but some command line options were provided indicating a new dataset\n",
      "should be created.  Please delete existing dataset and run again.\n",
      "\n"
     ]
    },
    {
     "name": "stdout",
     "output_type": "stream",
     "text": [
      "This is the Open Source version of ISCE.\n",
      "Some of the workflows depend on a separate licensed package.\n",
      "To obtain the licensed package, please make a request for ISCE\n",
      "through the website: https://download.jpl.nasa.gov/ops/request/index.cfm.\n",
      "Alternatively, if you are a member, or can become a member of WinSAR\n",
      "you may be able to obtain access to a version of the licensed sofware at\n",
      "https://winsar.unavco.org/software/isce\n",
      "Writing geotrans to VRT for /home/karlee/earthquakes/alor_2015_JupNot/dsc_half_fringe_digitized/ungeo2/geo_cols.r4\n",
      "This is the Open Source version of ISCE.\n",
      "Some of the workflows depend on a separate licensed package.\n",
      "To obtain the licensed package, please make a request for ISCE\n",
      "through the website: https://download.jpl.nasa.gov/ops/request/index.cfm.\n",
      "Alternatively, if you are a member, or can become a member of WinSAR\n",
      "you may be able to obtain access to a version of the licensed sofware at\n",
      "https://winsar.unavco.org/software/isce\n",
      "Writing geotrans to VRT for /home/karlee/earthquakes/alor_2015_JupNot/dsc_half_fringe_digitized/ungeo2/geo_rows.r4\n"
     ]
    },
    {
     "data": {
      "text/plain": [
       "0"
      ]
     },
     "execution_count": 8,
     "metadata": {},
     "output_type": "execute_result"
    }
   ],
   "source": [
    "#geocode row and col file\n",
    "cmd = 'gdalwarp -of ISCE -geoloc  -te '+WSEN+' -tr '+str(deltaLon)+' '+str(deltaLat)+' -srcnodata 0 -dstnodata 0  -wt float32 -r bilinear ' +rowfile +'.vrt ' + growfile\n",
    "print(cmd)\n",
    "os.system(cmd)\n",
    "cmd = 'gdalwarp -of ISCE -geoloc  -te '+WSEN+' -tr '+str(deltaLon)+' '+str(deltaLat)+' -srcnodata 0 -dstnodata 0  -wt float32 -r bilinear ' +colfile +'.vrt ' + gcolfile\n",
    "print(cmd)\n",
    "os.system(cmd)\n",
    "cmd = 'fixImageXml.py -i '+gcolfile+' -f'\n",
    "os.system(cmd)\n",
    "cmd = 'fixImageXml.py -i '+growfile+' -f'\n",
    "os.system(cmd)"
   ]
  },
  {
   "cell_type": "code",
   "execution_count": 9,
   "id": "794561a4",
   "metadata": {},
   "outputs": [
    {
     "name": "stdout",
     "output_type": "stream",
     "text": [
      "this will just append geoloc info to the vrt - perhaps check to make sure multiple copies are not ending up there\n"
     ]
    }
   ],
   "source": [
    "###set any geocoding info\n",
    "WSEN = '0.5 0.5 '+str(radarnx+0.5)+' '+str(radarny+0.5)\n",
    "writeVRT(infile, growfile, gcolfile)\n",
    "print('this will just append geoloc info to the vrt - perhaps check to make sure multiple copies are not ending up there')"
   ]
  },
  {
   "cell_type": "code",
   "execution_count": 11,
   "id": "a791a3d9",
   "metadata": {},
   "outputs": [
    {
     "name": "stdout",
     "output_type": "stream",
     "text": [
      "gdalwarp -of ISCE -geoloc  -te 0.5 0.5 8710.5 21348.5 -tr 1 1 -srcnodata 0 -dstnodata 0  -wt cfloat32 -r near /home/karlee/earthquakes/alor_2015_JupNot/dsc_half_fringe_digitized/okapy/model.geo.vrt ungeo.int\n",
      "Creating output file that is 8710P x 21348L.\n",
      "Processing /home/karlee/earthquakes/alor_2015_JupNot/dsc_half_fringe_digitized/okapy/model.geo.vrt [1/1] : 0...10...20...30...40...50...60...70...80...90...100 - done.\n",
      "This is the Open Source version of ISCE.\n",
      "Some of the workflows depend on a separate licensed package.\n",
      "To obtain the licensed package, please make a request for ISCE\n",
      "through the website: https://download.jpl.nasa.gov/ops/request/index.cfm.\n",
      "Alternatively, if you are a member, or can become a member of WinSAR\n",
      "you may be able to obtain access to a version of the licensed sofware at\n",
      "https://winsar.unavco.org/software/isce\n",
      "Writing geotrans to VRT for /home/karlee/earthquakes/alor_2015_JupNot/dsc_half_fringe_digitized/ungeo2/ungeo.int\n"
     ]
    },
    {
     "data": {
      "text/plain": [
       "0"
      ]
     },
     "execution_count": 11,
     "metadata": {},
     "output_type": "execute_result"
    }
   ],
   "source": [
    "cmd = 'gdalwarp -of ISCE -geoloc  -te '+ WSEN + ' -tr 1 1 -srcnodata 0 -dstnodata 0 ' + ' -wt cfloat32 -r ' + resampMethod + ' ' + infile +'.vrt ' 'ungeo.int'\n",
    "print (cmd)\n",
    "os.system(cmd)\n",
    "cmd = 'fixImageXml.py -i '+outfile+' -f'\n",
    "os.system(cmd)"
   ]
  },
  {
   "cell_type": "code",
   "execution_count": 12,
   "id": "71044db0",
   "metadata": {},
   "outputs": [
    {
     "name": "stdout",
     "output_type": "stream",
     "text": [
      "This is the Open Source version of ISCE.\n",
      "Some of the workflows depend on a separate licensed package.\n",
      "To obtain the licensed package, please make a request for ISCE\n",
      "through the website: https://download.jpl.nasa.gov/ops/request/index.cfm.\n",
      "Alternatively, if you are a member, or can become a member of WinSAR\n",
      "you may be able to obtain access to a version of the licensed sofware at\n",
      "https://winsar.unavco.org/software/isce\n",
      "Output filename : model_ungeo.int\n",
      "GDAL open (R): ungeo.int.vrt\n",
      "API open (WR): model_ungeo.int\n",
      "GDAL close: ungeo.int.vrt\n",
      "API close:  model_ungeo.int\n",
      "API open (R): model_ungeo.int\n",
      "API close:  model_ungeo.int\n",
      "Writing geotrans to VRT for model_ungeo.int\n"
     ]
    }
   ],
   "source": [
    "# lets resample the ungeocoded model with looks.py \n",
    "# if you file doesn't look the same dimensions as original\n",
    "\n",
    "!looks.py -i ungeo.int -o model_ungeo.int -r 3 -a 8 "
   ]
  },
  {
   "cell_type": "code",
   "execution_count": null,
   "id": "5a9d3b52",
   "metadata": {},
   "outputs": [],
   "source": [
    "# at the end of this notebook you will have a ungeocoded model with the corrected x and y values \n",
    "# it is called <ungeo_model.int>"
   ]
  }
 ],
 "metadata": {
  "kernelspec": {
   "display_name": "Python 3 (ipykernel)",
   "language": "python",
   "name": "python3"
  },
  "language_info": {
   "codemirror_mode": {
    "name": "ipython",
    "version": 3
   },
   "file_extension": ".py",
   "mimetype": "text/x-python",
   "name": "python",
   "nbconvert_exporter": "python",
   "pygments_lexer": "ipython3",
   "version": "3.8.12"
  },
  "vscode": {
   "interpreter": {
    "hash": "31f2aee4e71d21fbe5cf8b01ff0e069b9275f58929596ceb00d14d90e3e16cd6"
   }
  }
 },
 "nbformat": 4,
 "nbformat_minor": 5
}
